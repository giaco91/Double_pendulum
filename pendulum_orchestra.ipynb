{
 "cells": [
  {
   "cell_type": "code",
   "execution_count": 1,
   "metadata": {},
   "outputs": [],
   "source": [
    "import numpy as np\n",
    "import librosa\n",
    "import matplotlib.pyplot as plt\n",
    "from matplotlib.colors import LogNorm\n",
    "from matplotlib.ticker import LogFormatterMathtext\n",
    "import IPython.display as ipd\n",
    "import librosa.display\n",
    "\n",
    "import torch\n",
    "import torch.nn as nn\n",
    "import torchvision\n",
    "from torch.nn import functional as F\n",
    "\n",
    "from routines import *\n",
    "\n",
    "import warnings\n",
    "warnings.filterwarnings('ignore')"
   ]
  },
  {
   "cell_type": "code",
   "execution_count": 181,
   "metadata": {},
   "outputs": [
    {
     "name": "stdout",
     "output_type": "stream",
     "text": [
      "(40000,)\n"
     ]
    }
   ],
   "source": [
    "#load data\n",
    "f_s=8000\n",
    "x, sr = librosa.load('orchestra/pfiife.mp3',sr=f_s,duration=5)\n",
    "print(x.shape)"
   ]
  },
  {
   "cell_type": "code",
   "execution_count": 182,
   "metadata": {},
   "outputs": [
    {
     "name": "stdout",
     "output_type": "stream",
     "text": [
      "stepsize: 80\n"
     ]
    },
    {
     "data": {
      "image/png": "[encoded data removed]",
      "text/plain": [
       "<Figure size 432x288 with 1 Axes>"
      ]
     },
     "metadata": {
      "needs_background": "light"
     },
     "output_type": "display_data"
    }
   ],
   "source": [
    "#calculate spectrogram\n",
    "time_step=0.01#ms\n",
    "N=256\n",
    "ns=int(time_step*f_s)\n",
    "print('stepsize: '+str(ns))\n",
    "#---classical STFT\n",
    "c_STFT=classic_STFT(ns=ns,N=N)\n",
    "c_spec=c_STFT.get_energy_spec(x,verbose=False)*10**2#experimentally a good factor for energy conversion to the logp1 metric\n",
    "plt.imshow(np.log(c_spec+1),origin='lower', cmap='gray')\n",
    "plt.show()"
   ]
  },
  {
   "cell_type": "code",
   "execution_count": 196,
   "metadata": {},
   "outputs": [],
   "source": [
    "#\"pendulum voices\": introduce sinus sound\n",
    "n_pendulum=int(N/2)+1\n",
    "max_freq=f_s/3\n",
    "df=max_freq/n_pendulum\n",
    "pendulum_source=np.zeros((n_pendulum,x.shape[0]))\n",
    "pendulum_amplitudes=pendulum_source.copy()\n",
    "sample_idx=np.linspace(0, x.shape[0]-1, num=x.shape[0])\n",
    "for p in range(n_pendulum):\n",
    "    w_p=2*np.pi*p*df/f_s#we include the zero frequency\n",
    "    pendulum_source[p,:]=np.sin(w_p*sample_idx)/n_pendulum\n",
    "pendulum_amplitudes[10,:]=1\n",
    "pendulum_amplitudes[20,10000:25000]=1\n",
    "pendulum_amplitudes[25,15000:20000]=0.75\n",
    "\n",
    "pendulum_orchestra=pendulum_amplitudes*pendulum_source\n",
    "pendulum_mix=np.sum(pendulum_orchestra,axis=0)\n",
    "\n",
    "\n"
   ]
  },
  {
   "cell_type": "code",
   "execution_count": 184,
   "metadata": {},
   "outputs": [
    {
     "data": {
      "image/png": "[encoded data removed]",
      "text/plain": [
       "<Figure size 432x288 with 1 Axes>"
      ]
     },
     "metadata": {
      "needs_background": "light"
     },
     "output_type": "display_data"
    }
   ],
   "source": [
    "#---classical STFT of pendulum mix\n",
    "c_spec=c_STFT.get_energy_spec(pendulum_mix,verbose=False)*10**2#experimentally a good factor for energy conversion to the logp1 metric\n",
    "plt.imshow(np.log(c_spec+1),origin='lower', cmap='gray')\n",
    "plt.show()\n",
    "librosa.output.write_wav('orchestra/pendulum_mix.mp3', pendulum_mix, f_s)"
   ]
  },
  {
   "cell_type": "code",
   "execution_count": 185,
   "metadata": {},
   "outputs": [],
   "source": [
    "def get_spec_col(y):\n",
    "    #y is a 1-d (real) signal\n",
    "    #need to expand it into the complex plain for using torch.fft\n",
    "    N=y.size(0)\n",
    "    window=get_gaussian_window(N)\n",
    "    z=torch.zeros(N,2)\n",
    "    z[:,0]=y*window\n",
    "    z_hat=torch.fft(z,1)\n",
    "    e=torch.sum(torch.mul(z_hat,z_hat),axis=1)\n",
    "    return e[:int(N/2)+1]\n",
    "\n",
    "def get_gaussian_window(N):\n",
    "        n=torch.linspace(0,N-1,N)-(N-1)/2#no need to have integers\n",
    "        return torch.exp(-(8/N**2)*(n*n))"
   ]
  },
  {
   "cell_type": "code",
   "execution_count": 186,
   "metadata": {},
   "outputs": [],
   "source": [
    "#now everything in torch\n",
    "y=torch.from_numpy(x)[10000:]\n",
    "max_freq=f_s/3\n",
    "df=max_freq/n_pendulum\n",
    "pendulum_source=torch.zeros(n_pendulum,y.size(0))\n",
    "sample_idx=torch.linspace(0, y.size(0)-1, steps=y.size(0))\n",
    "for p in range(n_pendulum):\n",
    "    w_p=2*np.pi*p*df/f_s#we include the zero frequency\n",
    "    pendulum_source[p,:]=np.sin(w_p*sample_idx)/n_pendulum\n"
   ]
  },
  {
   "cell_type": "code",
   "execution_count": 187,
   "metadata": {},
   "outputs": [
    {
     "name": "stdout",
     "output_type": "stream",
     "text": [
      "torch.Size([256])\n",
      "torch.Size([129])\n"
     ]
    },
    {
     "data": {
      "image/png": "[encoded data removed]",
      "text/plain": [
       "<Figure size 432x288 with 1 Axes>"
      ]
     },
     "metadata": {
      "needs_background": "light"
     },
     "output_type": "display_data"
    }
   ],
   "source": [
    "signal=pendulum_source[10,:N]\n",
    "print(signal.size())\n",
    "e=get_spec_col(signal)\n",
    "print(e.size())\n",
    "plt.plot(e)\n",
    "plt.show()"
   ]
  },
  {
   "cell_type": "code",
   "execution_count": 188,
   "metadata": {},
   "outputs": [],
   "source": [
    "#check: make a spectrogram with the torch fft for that we need a window function (the same as in my classical STFT)\n",
    "def make_spec(y,N,ns):\n",
    "    n_col=int((y.size(0)-N)/ns)\n",
    "    spec=torch.zeros(int(N/2)+1,n_col)\n",
    "    for i in range(n_col):\n",
    "        spec[:,i]=get_spec_col(y[i*ns:N+i*ns])\n",
    "    return spec\n"
   ]
  },
  {
   "cell_type": "code",
   "execution_count": 178,
   "metadata": {},
   "outputs": [
    {
     "data": {
      "image/png": "[encoded data removed]",
      "text/plain": [
       "<Figure size 432x288 with 1 Axes>"
      ]
     },
     "metadata": {
      "needs_background": "light"
     },
     "output_type": "display_data"
    }
   ],
   "source": [
    "spec=make_spec(y,N,ns)\n",
    "plt.imshow(np.log(spec.numpy()+1),origin='lower', cmap='gray')\n",
    "plt.show()"
   ]
  },
  {
   "cell_type": "code",
   "execution_count": 89,
   "metadata": {},
   "outputs": [
    {
     "name": "stdout",
     "output_type": "stream",
     "text": [
      "torch.Size([129])\n"
     ]
    }
   ],
   "source": [
    "model=nn.Linear(1,n_pendulum,bias=False)\n",
    "dummy_input=torch.ones((1))\n",
    "out=model(dummy_input)\n",
    "print(out.size())"
   ]
  },
  {
   "cell_type": "code",
   "execution_count": 303,
   "metadata": {},
   "outputs": [],
   "source": [
    "def orchestra_step(spec_01,y_0,pendulum_source,model):\n",
    "    #model=nn.Linear(1,spec_01.size(0),bias=False)\n",
    "    N_2=y_0.size(0)\n",
    "    N=pendulum_source.size(1)\n",
    "    optimizer = torch.optim.Adam(model.parameters(), lr=0.001)\n",
    "    dummy_input=torch.ones((1))\n",
    "    n_epochs=5000\n",
    "    for i in range(n_epochs):\n",
    "        a_1=torch.unsqueeze(model(dummy_input),1)\n",
    "        loss_sparsity=torch.sum(torch.abs(a_1))\n",
    "        y_hat=torch.sum(pendulum_source*a_1,axis=0)#broad casting\n",
    "        #locality\n",
    "        spec_loc=get_spec_col(y_hat)\n",
    "        d_loc=torch.log(spec_loc+1)-torch.log(spec_01[:,1]+1)\n",
    "        loss_loc=torch.sum(torch.mul(d_loc,d_loc))\n",
    "        #consistency\n",
    "        y_con=torch.cat((y_0,y_hat[N_2:]), 0)\n",
    "        spec_con=get_spec_col(y_con)\n",
    "        d_con=torch.log(spec_con+1)-torch.log(spec_01[:,0]+1)\n",
    "        loss_con=torch.sum(torch.mul(d_con,d_con))\n",
    "        loss=loss_loc+1*loss_con+0.1*loss_sparsity\n",
    "        loss.backward()\n",
    "        optimizer.step()\n",
    "        if i%200==0:\n",
    "            print(loss.item())\n",
    "    print(loss.item())\n",
    "    plt.plot(spec_loc.detach().numpy())\n",
    "    plt.plot(spec_01[:,1])\n",
    "    plt.show()\n",
    "    #raise ValueError('asdf')\n",
    "    \n",
    "    return torch.squeeze(a_0.detach()),y_hat.detach(),model\n",
    "    \n",
    "def initialize(spec_0,pendulum_source_0):\n",
    "    model=nn.Linear(1,spec_0.size(0),bias=False)\n",
    "    optimizer = torch.optim.Adam(model.parameters(), lr=0.1)\n",
    "    dummy_input=torch.ones((1))\n",
    "    n_epochs=1000\n",
    "    for i in range(n_epochs):\n",
    "        optimizer.zero_grad()\n",
    "        a_0=torch.unsqueeze(model(dummy_input),1)\n",
    "        loss_sparsity=0*torch.sum(torch.abs(a_0))\n",
    "        y_hat_init=torch.sum(pendulum_source_0*a_0,axis=0)#broad casting\n",
    "        spec_col=get_spec_col(y_hat_init)\n",
    "        d=torch.log(spec_col+1)-torch.log(spec_0+1)\n",
    "        loss_loc=torch.sum(torch.mul(d,d))\n",
    "        loss=loss_loc+loss_sparsity\n",
    "        loss.backward()\n",
    "        optimizer.step()\n",
    "    print(loss.item())\n",
    "    plt.plot(spec_col.detach().numpy())\n",
    "    plt.plot(spec_0)\n",
    "    plt.show()\n",
    "    #raise ValueError('asdf')\n",
    "    \n",
    "    return torch.squeeze(a_0.detach()),y_hat_init.detach(),model"
   ]
  },
  {
   "cell_type": "code",
   "execution_count": 302,
   "metadata": {},
   "outputs": [
    {
     "name": "stdout",
     "output_type": "stream",
     "text": [
      "ns: 80\n",
      "N: 256\n",
      "n_pendulum: 129\n",
      "0.0025292246136814356\n"
     ]
    },
    {
     "data": {
      "image/png": "[encoded data removed]",
      "text/plain": [
       "<Figure size 432x288 with 1 Axes>"
      ]
     },
     "metadata": {
      "needs_background": "light"
     },
     "output_type": "display_data"
    },
    {
     "name": "stdout",
     "output_type": "stream",
     "text": [
      "torch.Size([129])\n",
      "step: 0/371\n",
      "23.0516357421875\n",
      "15.415616989135742\n",
      "14.779674530029297\n",
      "21.138221740722656\n",
      "20.126821517944336\n",
      "23.144439697265625\n",
      "27.94803237915039\n",
      "32.65557861328125\n",
      "39.05487823486328\n",
      "38.4503173828125\n",
      "38.9730224609375\n",
      "46.0871467590332\n",
      "45.741416931152344\n",
      "39.320613861083984\n",
      "50.349456787109375\n",
      "46.199256896972656\n",
      "47.659305572509766\n",
      "50.70677947998047\n",
      "49.50081253051758\n",
      "50.19137954711914\n",
      "58.31028747558594\n",
      "46.27097702026367\n",
      "48.743629455566406\n",
      "62.18296813964844\n",
      "39.68812942504883\n",
      "64.43073272705078\n"
     ]
    },
    {
     "data": {
      "image/png": "[encoded data removed]",
      "text/plain": [
       "<Figure size 432x288 with 1 Axes>"
      ]
     },
     "metadata": {
      "needs_background": "light"
     },
     "output_type": "display_data"
    },
    {
     "name": "stdout",
     "output_type": "stream",
     "text": [
      "step: 1/371\n",
      "87.64350891113281\n",
      "55.22365188598633\n",
      "53.198211669921875\n",
      "58.60465621948242\n",
      "56.9458122253418\n",
      "60.10057067871094\n",
      "59.04248046875\n",
      "52.953433990478516\n",
      "59.625885009765625\n",
      "54.13227844238281\n",
      "59.089378356933594\n",
      "58.15638732910156\n",
      "55.72684860229492\n",
      "59.2291259765625\n"
     ]
    },
    {
     "ename": "KeyboardInterrupt",
     "evalue": "",
     "output_type": "error",
     "traceback": [
      "\u001b[0;31m---------------------------------------------------------------------------\u001b[0m",
      "\u001b[0;31mKeyboardInterrupt\u001b[0m                         Traceback (most recent call last)",
      "\u001b[0;32m<ipython-input-302-b2a6ec2c8d12>\u001b[0m in \u001b[0;36m<module>\u001b[0;34m\u001b[0m\n\u001b[1;32m     20\u001b[0m \u001b[0;32mfor\u001b[0m \u001b[0mi\u001b[0m \u001b[0;32min\u001b[0m \u001b[0mrange\u001b[0m\u001b[0;34m(\u001b[0m\u001b[0mn_col\u001b[0m\u001b[0;34m-\u001b[0m\u001b[0;36m1\u001b[0m\u001b[0;34m)\u001b[0m\u001b[0;34m:\u001b[0m\u001b[0;34m\u001b[0m\u001b[0;34m\u001b[0m\u001b[0m\n\u001b[1;32m     21\u001b[0m     \u001b[0mprint\u001b[0m\u001b[0;34m(\u001b[0m\u001b[0;34m'step: '\u001b[0m\u001b[0;34m+\u001b[0m\u001b[0mstr\u001b[0m\u001b[0;34m(\u001b[0m\u001b[0mi\u001b[0m\u001b[0;34m)\u001b[0m\u001b[0;34m+\u001b[0m\u001b[0;34m'/'\u001b[0m\u001b[0;34m+\u001b[0m\u001b[0mstr\u001b[0m\u001b[0;34m(\u001b[0m\u001b[0mn_col\u001b[0m\u001b[0;34m)\u001b[0m\u001b[0;34m)\u001b[0m\u001b[0;34m\u001b[0m\u001b[0;34m\u001b[0m\u001b[0m\n\u001b[0;32m---> 22\u001b[0;31m     \u001b[0ma_0\u001b[0m\u001b[0;34m,\u001b[0m\u001b[0msignal_step\u001b[0m\u001b[0;34m,\u001b[0m\u001b[0mmodel\u001b[0m\u001b[0;34m=\u001b[0m\u001b[0morchestra_step\u001b[0m\u001b[0;34m(\u001b[0m\u001b[0mspec\u001b[0m\u001b[0;34m[\u001b[0m\u001b[0;34m:\u001b[0m\u001b[0;34m,\u001b[0m\u001b[0mi\u001b[0m\u001b[0;34m:\u001b[0m\u001b[0mi\u001b[0m\u001b[0;34m+\u001b[0m\u001b[0;36m2\u001b[0m\u001b[0;34m]\u001b[0m\u001b[0;34m,\u001b[0m\u001b[0mapproximate_signal\u001b[0m\u001b[0;34m[\u001b[0m\u001b[0mi\u001b[0m\u001b[0;34m*\u001b[0m\u001b[0mns\u001b[0m\u001b[0;34m:\u001b[0m\u001b[0mN_2\u001b[0m\u001b[0;34m+\u001b[0m\u001b[0mi\u001b[0m\u001b[0;34m*\u001b[0m\u001b[0mns\u001b[0m\u001b[0;34m]\u001b[0m\u001b[0;34m,\u001b[0m\u001b[0mpendulum_source_t\u001b[0m\u001b[0;34m[\u001b[0m\u001b[0;34m:\u001b[0m\u001b[0;34m,\u001b[0m\u001b[0;34m(\u001b[0m\u001b[0mi\u001b[0m\u001b[0;34m+\u001b[0m\u001b[0;36m1\u001b[0m\u001b[0;34m)\u001b[0m\u001b[0;34m*\u001b[0m\u001b[0mns\u001b[0m\u001b[0;34m:\u001b[0m\u001b[0mN\u001b[0m\u001b[0;34m+\u001b[0m\u001b[0;34m(\u001b[0m\u001b[0mi\u001b[0m\u001b[0;34m+\u001b[0m\u001b[0;36m1\u001b[0m\u001b[0;34m)\u001b[0m\u001b[0;34m*\u001b[0m\u001b[0mns\u001b[0m\u001b[0;34m]\u001b[0m\u001b[0;34m,\u001b[0m\u001b[0mmodel\u001b[0m\u001b[0;34m)\u001b[0m\u001b[0;34m\u001b[0m\u001b[0;34m\u001b[0m\u001b[0m\n\u001b[0m\u001b[1;32m     23\u001b[0m     \u001b[0mapproximate_signal\u001b[0m\u001b[0;34m[\u001b[0m\u001b[0mi\u001b[0m\u001b[0;34m*\u001b[0m\u001b[0mns\u001b[0m\u001b[0;34m:\u001b[0m\u001b[0mN\u001b[0m\u001b[0;34m+\u001b[0m\u001b[0mi\u001b[0m\u001b[0;34m*\u001b[0m\u001b[0mns\u001b[0m\u001b[0;34m]\u001b[0m\u001b[0;34m=\u001b[0m\u001b[0msignal_step\u001b[0m\u001b[0;34m\u001b[0m\u001b[0;34m\u001b[0m\u001b[0m\n\u001b[1;32m     24\u001b[0m     \u001b[0mpendulum_amplitudes\u001b[0m\u001b[0;34m[\u001b[0m\u001b[0;34m:\u001b[0m\u001b[0;34m,\u001b[0m\u001b[0mi\u001b[0m\u001b[0;34m+\u001b[0m\u001b[0;36m1\u001b[0m\u001b[0;34m]\u001b[0m\u001b[0;34m=\u001b[0m\u001b[0ma_0\u001b[0m\u001b[0;34m\u001b[0m\u001b[0;34m\u001b[0m\u001b[0m\n",
      "\u001b[0;32m<ipython-input-301-f39c38538659>\u001b[0m in \u001b[0;36morchestra_step\u001b[0;34m(spec_01, y_0, pendulum_source, model)\u001b[0m\n\u001b[1;32m     11\u001b[0m         \u001b[0my_hat\u001b[0m\u001b[0;34m=\u001b[0m\u001b[0mtorch\u001b[0m\u001b[0;34m.\u001b[0m\u001b[0msum\u001b[0m\u001b[0;34m(\u001b[0m\u001b[0mpendulum_source\u001b[0m\u001b[0;34m*\u001b[0m\u001b[0ma_1\u001b[0m\u001b[0;34m,\u001b[0m\u001b[0maxis\u001b[0m\u001b[0;34m=\u001b[0m\u001b[0;36m0\u001b[0m\u001b[0;34m)\u001b[0m\u001b[0;31m#broad casting\u001b[0m\u001b[0;34m\u001b[0m\u001b[0;34m\u001b[0m\u001b[0m\n\u001b[1;32m     12\u001b[0m         \u001b[0;31m#locality\u001b[0m\u001b[0;34m\u001b[0m\u001b[0;34m\u001b[0m\u001b[0;34m\u001b[0m\u001b[0m\n\u001b[0;32m---> 13\u001b[0;31m         \u001b[0mspec_loc\u001b[0m\u001b[0;34m=\u001b[0m\u001b[0mget_spec_col\u001b[0m\u001b[0;34m(\u001b[0m\u001b[0my_hat\u001b[0m\u001b[0;34m)\u001b[0m\u001b[0;34m\u001b[0m\u001b[0;34m\u001b[0m\u001b[0m\n\u001b[0m\u001b[1;32m     14\u001b[0m         \u001b[0md_loc\u001b[0m\u001b[0;34m=\u001b[0m\u001b[0mtorch\u001b[0m\u001b[0;34m.\u001b[0m\u001b[0mlog\u001b[0m\u001b[0;34m(\u001b[0m\u001b[0mspec_loc\u001b[0m\u001b[0;34m+\u001b[0m\u001b[0;36m1\u001b[0m\u001b[0;34m)\u001b[0m\u001b[0;34m-\u001b[0m\u001b[0mtorch\u001b[0m\u001b[0;34m.\u001b[0m\u001b[0mlog\u001b[0m\u001b[0;34m(\u001b[0m\u001b[0mspec_01\u001b[0m\u001b[0;34m[\u001b[0m\u001b[0;34m:\u001b[0m\u001b[0;34m,\u001b[0m\u001b[0;36m1\u001b[0m\u001b[0;34m]\u001b[0m\u001b[0;34m+\u001b[0m\u001b[0;36m1\u001b[0m\u001b[0;34m)\u001b[0m\u001b[0;34m\u001b[0m\u001b[0;34m\u001b[0m\u001b[0m\n\u001b[1;32m     15\u001b[0m         \u001b[0mloss_loc\u001b[0m\u001b[0;34m=\u001b[0m\u001b[0mtorch\u001b[0m\u001b[0;34m.\u001b[0m\u001b[0msum\u001b[0m\u001b[0;34m(\u001b[0m\u001b[0mtorch\u001b[0m\u001b[0;34m.\u001b[0m\u001b[0mmul\u001b[0m\u001b[0;34m(\u001b[0m\u001b[0md_loc\u001b[0m\u001b[0;34m,\u001b[0m\u001b[0md_loc\u001b[0m\u001b[0;34m)\u001b[0m\u001b[0;34m)\u001b[0m\u001b[0;34m\u001b[0m\u001b[0;34m\u001b[0m\u001b[0m\n",
      "\u001b[0;32m<ipython-input-185-b8ced605e309>\u001b[0m in \u001b[0;36mget_spec_col\u001b[0;34m(y)\u001b[0m\n\u001b[1;32m      5\u001b[0m     \u001b[0mwindow\u001b[0m\u001b[0;34m=\u001b[0m\u001b[0mget_gaussian_window\u001b[0m\u001b[0;34m(\u001b[0m\u001b[0mN\u001b[0m\u001b[0;34m)\u001b[0m\u001b[0;34m\u001b[0m\u001b[0;34m\u001b[0m\u001b[0m\n\u001b[1;32m      6\u001b[0m     \u001b[0mz\u001b[0m\u001b[0;34m=\u001b[0m\u001b[0mtorch\u001b[0m\u001b[0;34m.\u001b[0m\u001b[0mzeros\u001b[0m\u001b[0;34m(\u001b[0m\u001b[0mN\u001b[0m\u001b[0;34m,\u001b[0m\u001b[0;36m2\u001b[0m\u001b[0;34m)\u001b[0m\u001b[0;34m\u001b[0m\u001b[0;34m\u001b[0m\u001b[0m\n\u001b[0;32m----> 7\u001b[0;31m     \u001b[0mz\u001b[0m\u001b[0;34m[\u001b[0m\u001b[0;34m:\u001b[0m\u001b[0;34m,\u001b[0m\u001b[0;36m0\u001b[0m\u001b[0;34m]\u001b[0m\u001b[0;34m=\u001b[0m\u001b[0my\u001b[0m\u001b[0;34m*\u001b[0m\u001b[0mwindow\u001b[0m\u001b[0;34m\u001b[0m\u001b[0;34m\u001b[0m\u001b[0m\n\u001b[0m\u001b[1;32m      8\u001b[0m     \u001b[0mz_hat\u001b[0m\u001b[0;34m=\u001b[0m\u001b[0mtorch\u001b[0m\u001b[0;34m.\u001b[0m\u001b[0mfft\u001b[0m\u001b[0;34m(\u001b[0m\u001b[0mz\u001b[0m\u001b[0;34m,\u001b[0m\u001b[0;36m1\u001b[0m\u001b[0;34m)\u001b[0m\u001b[0;34m\u001b[0m\u001b[0;34m\u001b[0m\u001b[0m\n\u001b[1;32m      9\u001b[0m     \u001b[0me\u001b[0m\u001b[0;34m=\u001b[0m\u001b[0mtorch\u001b[0m\u001b[0;34m.\u001b[0m\u001b[0msum\u001b[0m\u001b[0;34m(\u001b[0m\u001b[0mtorch\u001b[0m\u001b[0;34m.\u001b[0m\u001b[0mmul\u001b[0m\u001b[0;34m(\u001b[0m\u001b[0mz_hat\u001b[0m\u001b[0;34m,\u001b[0m\u001b[0mz_hat\u001b[0m\u001b[0;34m)\u001b[0m\u001b[0;34m,\u001b[0m\u001b[0maxis\u001b[0m\u001b[0;34m=\u001b[0m\u001b[0;36m1\u001b[0m\u001b[0;34m)\u001b[0m\u001b[0;34m\u001b[0m\u001b[0;34m\u001b[0m\u001b[0m\n",
      "\u001b[0;31mKeyboardInterrupt\u001b[0m: "
     ]
    }
   ],
   "source": [
    "if ns>=N/2:\n",
    "    print('Warning: The step size is larger than half the window size.')\n",
    "n_col=int((y.size(0)-N)/ns)\n",
    "N_2=int(N/2)\n",
    "print('ns: '+str(ns))\n",
    "print('N: '+str(N))\n",
    "print('n_pendulum: '+str(n_pendulum))\n",
    "pendulum_source_t=torch.from_numpy(pendulum_source)\n",
    "#calculate the true spectrogram\n",
    "spec=torch.zeros(int(N/2)+1,n_col)\n",
    "for i in range(n_col):\n",
    "    spec[:,i]=get_spec_col(y[i*ns:N+i*ns])\n",
    "approximate_signal=torch.zeros(y.size(0)).double()#here we store the found signal\n",
    "pendulum_amplitudes=torch.zeros(n_pendulum,n_col)#here we store the found pendulum amplitudes\n",
    "#approximate_signal[:N-ns]=y[:N-ns]\n",
    "a_0,y_hat_init,model=initialize(spec[:,0],pendulum_source_t[:,:N])\n",
    "print(a_0.size())\n",
    "pendulum_amplitudes[:,0]=a_0\n",
    "approximate_signal[:N]=y_hat_init\n",
    "for i in range(n_col-1):\n",
    "    print('step: '+str(i)+'/'+str(n_col))\n",
    "    a_0,signal_step,model=orchestra_step(spec[:,i:i+2],approximate_signal[i*ns:N_2+i*ns],pendulum_source_t[:,(i+1)*ns:N+(i+1)*ns],model)\n",
    "    approximate_signal[i*ns:N+i*ns]=signal_step\n",
    "    pendulum_amplitudes[:,i+1]=a_0\n"
   ]
  },
  {
   "cell_type": "code",
   "execution_count": null,
   "metadata": {},
   "outputs": [],
   "source": [
    "spec=make_spec(approximate_signal,N,ns)\n",
    "plt.imshow(np.log(spec.numpy()+1),origin='lower', cmap='gray')\n",
    "plt.show()"
   ]
  }
 ],
 "metadata": {
  "kernelspec": {
   "display_name": "Python 3",
   "language": "python",
   "name": "python3"
  },
  "language_info": {
   "codemirror_mode": {
    "name": "ipython",
    "version": 3
   },
   "file_extension": ".py",
   "mimetype": "text/x-python",
   "name": "python",
   "nbconvert_exporter": "python",
   "pygments_lexer": "ipython3",
   "version": "3.7.4"
  }
 },
 "nbformat": 4,
 "nbformat_minor": 2
}
