{
 "cells": [
  {
   "cell_type": "markdown",
   "metadata": {},
   "source": [
    "## Simulation of a pendulum in python\n",
    "\n",
    "Since we love simulating stuff in python and since (to the best of my knowledge) there exists no closed form solution for the exact non-linear pendulum equation, we are well motivated to write a few lines of code for a simulation.\n",
    "\n",
    "We use the **numpy** package for the math, the **PIL** package for manipuating images and **pyplot** for making plots."
   ]
  },
  {
   "cell_type": "code",
   "execution_count": 9,
   "metadata": {},
   "outputs": [],
   "source": [
    "#import packages we will need\n",
    "import numpy as np\n",
    "from PIL import Image, ImageDraw\n",
    "import matplotlib.pyplot as plt"
   ]
  },
  {
   "cell_type": "markdown",
   "metadata": {},
   "source": [
    "### The pendulum\n",
    "The pendulum has one degree of freedom which is most naturally described by an angle which we will call theta.\n",
    "![GitHub Logo](pendulum_image.png)\n",
    "\n",
    "### Initial condition\n",
    "If we know the angle and the angular velocity at any moment in time we can (in principle) precisely calculate the past and the future of the pendulum's dynamic. In order to start our simulation it is therefore enough to choose an initial angle ```theta_init``` and angular velocity ```theta_d_init```.\n",
    "\n"
   ]
  },
  {
   "cell_type": "code",
   "execution_count": 3,
   "metadata": {},
   "outputs": [],
   "source": [
    "#---initial condition ---\n",
    "theta_init=np.pi/3\n",
    "theta_d_init=0"
   ]
  },
  {
   "cell_type": "markdown",
   "metadata": {},
   "source": [
    "### Draw the pendulum\n",
    "We write the function ```draw_pendulum``` that draws the pendulum for a given angle ```theta```. We add default arguments for the image width ```w```, image height ```h```, mass ```m```, length ```l``` and gravity ```g```. "
   ]
  },
  {
   "cell_type": "code",
   "execution_count": 4,
   "metadata": {},
   "outputs": [],
   "source": [
    "def draw_pendulum(theta,w=200,h=200,m=1,l=1):\n",
    "\t#create image with width=w and height=h\n",
    "\timg = Image.new(\"RGB\", (w, h), \"white\")\n",
    "\t#convert the length of the pendulum to some image units\n",
    "\tL=int(0.4*h*l)\n",
    "\t#define a diameter for the pendulums mass\n",
    "\td=int(0.02*h)*m**(1/3)\n",
    "\t#create the draw objects of the image\n",
    "\tdraw = ImageDraw.Draw(img)\n",
    "\t#calculate the cartesian coordinates\n",
    "\tx0=int(w/2)\n",
    "\ty0=int(h/2)\n",
    "\tx=x0+L*np.sin(theta)\n",
    "\ty=y0+L*np.cos(theta)\n",
    "\t#draw the pendulum\n",
    "\tdraw.line([(x0,y0),(x,y)],fill=(0,0,0),width=1)\n",
    "\tdraw.ellipse([(x-d,y-d),(x+d,y+d)], fill=(0,0,255), outline=None)\n",
    "\treturn img"
   ]
  },
  {
   "cell_type": "code",
   "execution_count": 10,
   "metadata": {},
   "outputs": [],
   "source": [
    "#--example of draw_pendulum()----\n",
    "img=draw_pendulum(theta_init)\n",
    "img.show()"
   ]
  },
  {
   "cell_type": "markdown",
   "metadata": {},
   "source": [
    "### Calculate the energy\n",
    "We write the function ```get_energy``` that calculates the potential and kinetic energy of the pendulum's mass given the angle ```theta``` and the angular velocity ```theta_d```. The potential energy is calculated by\n",
    "$$\n",
    "e_{pot}=-mgy, \\quad y=l \\cos(\\theta)\n",
    "$$\n",
    "and the formula for the kinetic energy is given by\n",
    "$$\n",
    "e_{kin}=\\frac{m}{2}l^2\\dot{\\theta}^2.\n",
    "$$"
   ]
  },
  {
   "cell_type": "code",
   "execution_count": 11,
   "metadata": {},
   "outputs": [],
   "source": [
    "def get_energy(theta,theta_d,m=1,l=1,g=10):\n",
    "\t#the height of the mass\n",
    "\ty=l*np.cos(theta)\n",
    "\t#potential energy\n",
    "\te_pot=-m*g*y\n",
    "\t#kinetic energy\n",
    "\te_kin=m/2*(l*theta_d)**2\n",
    "\treturn e_pot,e_kin"
   ]
  },
  {
   "cell_type": "code",
   "execution_count": 12,
   "metadata": {},
   "outputs": [
    {
     "name": "stdout",
     "output_type": "stream",
     "text": [
      "potential energy: -5.00\n",
      "kinetic energy: 0.0\n"
     ]
    }
   ],
   "source": [
    "#--example of get_energy()----\n",
    "e_pot,e_kin=get_energy(theta_init,theta_d_init)\n",
    "print('potential energy: '+str(e_pot)[:5])\n",
    "print('kinetic energy: '+str(e_kin)[:5])"
   ]
  },
  {
   "cell_type": "markdown",
   "metadata": {},
   "source": [
    "### Calculate the trajectory\n",
    "This part is the core of the simulation. For a given initial state ```(theta_init,theta_d_init)``` we aim to calculate all future states. Physics will give us the corresponding differential equation for the time dependent angle $\\theta(t)$. We apply Newton's second law for the pendulum's mass and obtain\n",
    "$$\n",
    "\\frac{d^2\\theta(t)}{dt^2}=-\\frac{g}{l}\\sin\\big(\\theta(t)\\big).\n",
    "$$\n",
    "Note that $\\frac{d^2\\theta(t)}{dt^2}$ is the angular accelration and the angular velocity is written as $\\frac{d\\theta(t)}{dt}$.\n",
    "The power of this numeric simulation is, that we approximate the time-continuum by discrete time steps $\\Delta t$. The most simple way to do so is called Eulers rule which states that given the state at any time $t_0$ we can cacluate the state at the time $t_0+\\Delta t$ via the rule\n",
    "$$\n",
    "\\frac{d\\theta(t_0+\\Delta t)}{dt}= \\frac{d\\theta(t_0)}{dt}+\\Delta t \\frac{d^2\\theta(t_0)}{dt^2}=\\frac{d\\theta(t_0)}{dt}-\\Delta t \\frac{g}{l}\\sin\\big(\\theta(t_0)\\big)\n",
    "$$\n",
    "$$\n",
    "\\theta(t_0+\\Delta t)=\\theta(t_0)+ \\Delta t \\frac{d\\theta(t_0)}{dt}.\n",
    "$$\n",
    "If you wan't to implement more sophisticated approximations, you might be interested in the familly of\n",
    "[Runge-Kutta methods](https://en.wikipedia.org/wiki/Runge–Kutta_methods)."
   ]
  },
  {
   "cell_type": "markdown",
   "metadata": {},
   "source": [
    "The function ```calculate_trajectory``` calculates the trajectory of states of ```n_iter``` points. The smaller the time step ```dt``` the more precise is the approximation. The downside is however that the program takes longer to calculate the simulation."
   ]
  },
  {
   "cell_type": "code",
   "execution_count": 13,
   "metadata": {},
   "outputs": [],
   "source": [
    "def calculate_trajectory(theta_init,theta_d_init,n_iter=1000,dt=0.01,g=10,l=1):\n",
    "\tphase_traject=np.zeros((n_iter,2))#phase-space trajectory\n",
    "\tphase_traject[0,:]=np.array([theta_init,theta_d_init])\n",
    "\n",
    "\tfor i in range(n_iter-1):\n",
    "\t\ttheta_dd=-g/l*np.sin(phase_traject[i,0])\n",
    "\t\tphase_traject[i+1,1]=phase_traject[i,1]+dt*theta_dd\n",
    "\t\tphase_traject[i+1,0]=phase_traject[i,0]+dt*phase_traject[i,1]\n",
    "\treturn phase_traject"
   ]
  },
  {
   "cell_type": "code",
   "execution_count": 14,
   "metadata": {},
   "outputs": [
    {
     "data": {
      "image/png": "[encoded data removed]",
      "text/plain": [
       "<Figure size 432x288 with 1 Axes>"
      ]
     },
     "metadata": {
      "needs_background": "light"
     },
     "output_type": "display_data"
    }
   ],
   "source": [
    "#---example of calculate_traject()\n",
    "dt=0.005\n",
    "n_iter=1000\n",
    "phase_traject=calculate_trajectory(theta_init,theta_d_init,dt=dt,n_iter=n_iter)\n",
    "plt.plot(phase_traject[:,0])\n",
    "plt.ylabel('theta')\n",
    "plt.xlabel('iteration')\n",
    "plt.show()"
   ]
  },
  {
   "cell_type": "markdown",
   "metadata": {},
   "source": [
    "### Energy conservation\n",
    "Our physical system, the pendulum, does not dissipate any energy. Hence its total energy (potential plus kinetic) should be conserved over time. Let's check this!"
   ]
  },
  {
   "cell_type": "code",
   "execution_count": 25,
   "metadata": {},
   "outputs": [
    {
     "data": {
      "image/png": "[encoded data removed]",
      "text/plain": [
       "<matplotlib.figure.Figure at 0x11aa6fda0>"
      ]
     },
     "metadata": {},
     "output_type": "display_data"
    }
   ],
   "source": [
    "#--example: get energy of trajectory\n",
    "total_energy=[]\n",
    "for i in range(phase_traject.shape[0]):\n",
    "\te_pot,e_kin=get_energy(phase_traject[i,0],phase_traject[i,1])\n",
    "\ttotal_energy.append(e_pot+e_kin)\t\n",
    "plt.plot(total_energy)\n",
    "plt.ylabel('total energy')\n",
    "plt.xlabel('iteration')\n",
    "plt.show()"
   ]
  },
  {
   "cell_type": "markdown",
   "metadata": {},
   "source": [
    "Unfortunatelly, we observe that energy is NOT conserved!? This is, because our discrete time approximation is not good enough. Either we use a better approximation method or we make smaller time steps. Here we do the latter and increase the number of time steps by a factor of 10. Indeed we find the the energy remains almost constant (compare the scale of the y-axis)!"
   ]
  },
  {
   "cell_type": "code",
   "execution_count": 47,
   "metadata": {},
   "outputs": [
    {
     "data": {
      "image/png": "[encoded data removed]",
      "text/plain": [
       "<matplotlib.figure.Figure at 0x11af027b8>"
      ]
     },
     "metadata": {},
     "output_type": "display_data"
    }
   ],
   "source": [
    "#we increase the number of time steps by a factor of 10\n",
    "dt=0.0005\n",
    "n_iter=10000\n",
    "#and now let's repeat the energy experiment\n",
    "phase_traject=calculate_trajectory(theta_init,theta_d_init,dt=dt,n_iter=n_iter)\n",
    "total_energy=[]\n",
    "for i in range(phase_traject.shape[0]):\n",
    "\te_pot,e_kin=get_energy(phase_traject[i,0],phase_traject[i,1])\n",
    "\ttotal_energy.append(e_pot+e_kin)\t\n",
    "plt.plot(total_energy)\n",
    "plt.ylabel('total energy')\n",
    "plt.xlabel('iteration')\n",
    "plt.show()"
   ]
  },
  {
   "cell_type": "markdown",
   "metadata": {},
   "source": [
    "### Rendering the trajectory\n",
    "In order to render our simulation, all we have to do is to draw a time sequence pendulum images. And nothing is easier than that. However, if we want to simulate the pendulum in the correct physical time we need to think about how many frames we want to show per second. This variable is stored in ```frames_per_second```. Since we have very small time staps we dont need to render every point of our trajectory. The variable ```take_frame_every``` tells us how many trajectory points we can skip between any two frames. It can be calculated as"
   ]
  },
  {
   "cell_type": "code",
   "execution_count": 43,
   "metadata": {},
   "outputs": [
    {
     "name": "stdout",
     "output_type": "stream",
     "text": [
      "100\n"
     ]
    }
   ],
   "source": [
    "frames_per_second=20\n",
    "take_frame_every=int(1/(dt*frames_per_second))"
   ]
  },
  {
   "cell_type": "markdown",
   "metadata": {},
   "source": [
    "Let's now write down the rendering function ```render_traject```. We will collect all frames (or images) in a list called ```frames```. We will then save the frames as a gif in the current directory (or you can provide an arbitrary path as a default argument ```save_path```)."
   ]
  },
  {
   "cell_type": "code",
   "execution_count": 41,
   "metadata": {
    "collapsed": true
   },
   "outputs": [],
   "source": [
    "def render_traject(phase_traject,m=1,l=1,g=10,save_path='',take_frame_every=1):\n",
    "\tframes=[]#here we clollect the frames\n",
    "\tfor i in range(phase_traject.shape[0]):\n",
    "\t\tif i%take_frame_every==0:\n",
    "\t\t\t#get the i-th angle and angular velocity\n",
    "\t\t\ttheta=phase_traject[i,0]\n",
    "\t\t\ttheta_d=phase_traject[i,1]\n",
    "\t\t\t#draw the corresponding image and add to our frame list\n",
    "\t\t\timg=draw_pendulum(theta,w=200,h=200,m=m,l=l)\n",
    "\t\t\tframes.append(img)\n",
    "\n",
    "\tframes[0].save(save_path+'pendulum_tutorial.gif',\n",
    "\t               save_all=True,\n",
    "\t               append_images=frames[1:],\n",
    "\t               duration=40,\n",
    "\t               loop=0)\n",
    "\n",
    "\te_pot_0,e_kin_0=get_energy(phase_traject[0,0],phase_traject[0,1],m,l,g)#initial energy\n",
    "\te_pot_final,e_kin_final=get_energy(phase_traject[-1,0],phase_traject[-1,1],m,l,g)#final energy\n",
    "\tprint('initial energy: '+str(e_pot_0+e_kin_0)[:5])\n",
    "\tprint('final energy: '+str(e_pot_final+e_kin_final)[:5])\n"
   ]
  },
  {
   "cell_type": "markdown",
   "metadata": {},
   "source": [
    "Finally, we can call the rendering function and look at our final product:)"
   ]
  },
  {
   "cell_type": "code",
   "execution_count": 48,
   "metadata": {},
   "outputs": [
    {
     "name": "stdout",
     "output_type": "stream",
     "text": [
      "(10000, 2)\n",
      "initial energy: -5.00\n",
      "final energy: -4.89\n"
     ]
    }
   ],
   "source": [
    "render_traject(phase_traject,take_frame_every=take_frame_every)"
   ]
  }
 ],
 "metadata": {
  "kernelspec": {
   "display_name": "Python 3",
   "language": "python",
   "name": "python3"
  },
  "language_info": {
   "codemirror_mode": {
    "name": "ipython",
    "version": 3
   },
   "file_extension": ".py",
   "mimetype": "text/x-python",
   "name": "python",
   "nbconvert_exporter": "python",
   "pygments_lexer": "ipython3",
   "version": "3.6.9"
  }
 },
 "nbformat": 4,
 "nbformat_minor": 2
}
